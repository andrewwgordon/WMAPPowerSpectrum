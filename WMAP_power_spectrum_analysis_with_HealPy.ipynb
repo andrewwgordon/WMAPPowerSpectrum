{
  "nbformat": 4,
  "nbformat_minor": 0,
  "metadata": {
    "colab": {
      "name": "WMAP_power_spectrum_analysis_with_HealPy.ipynb",
      "version": "0.3.2",
      "provenance": [],
      "collapsed_sections": [],
      "include_colab_link": true
    },
    "kernelspec": {
      "name": "python3",
      "display_name": "Python 3"
    }
  },
  "cells": [
    {
      "cell_type": "markdown",
      "metadata": {
        "id": "view-in-github",
        "colab_type": "text"
      },
      "source": [
        "<a href=\"https://colab.research.google.com/github/andrewwgordon/WMAPPowerSpectrum/blob/master/WMAP_power_spectrum_analysis_with_HealPy.ipynb\" target=\"_parent\"><img src=\"https://colab.research.google.com/assets/colab-badge.svg\" alt=\"Open In Colab\"/></a>"
      ]
    },
    {
      "cell_type": "code",
      "metadata": {
        "id": "-qGGfzAEt_WS",
        "colab_type": "code",
        "cellView": "both",
        "colab": {}
      },
      "source": [
        "#@title\n",
        "!pip install healpy\n",
        "!pip install astroML"
      ],
      "execution_count": 0,
      "outputs": []
    },
    {
      "cell_type": "code",
      "metadata": {
        "id": "gqHxxzLFulR2",
        "colab_type": "code",
        "colab": {}
      },
      "source": [
        "%matplotlib inline\n",
        "import numpy as np\n",
        "from matplotlib import pyplot as plt\n",
        "\n",
        "# warning: due to a bug in healpy, importing it before pylab can cause\n",
        "#  a segmentation fault in some circumstances.\n",
        "import healpy as hp\n",
        "\n",
        "from astroML.datasets import fetch_wmap_temperatures\n",
        "\n",
        "\n",
        "#------------------------------------------------------------\n",
        "# Fetch the data\n",
        "wmap_unmasked = fetch_wmap_temperatures(masked=False)\n",
        "wmap_masked = fetch_wmap_temperatures(masked=True)\n",
        "white_noise = np.ma.asarray(np.random.normal(0, 0.062, wmap_masked.shape))\n",
        "\n",
        "#------------------------------------------------------------\n",
        "# plot the unmasked map\n",
        "fig = plt.figure(1)\n",
        "hp.mollview(wmap_unmasked, min=-1, max=1, title='Unmasked map',\n",
        "            fig=1, unit=r'$\\Delta$T (mK)')\n",
        "\n",
        "#------------------------------------------------------------\n",
        "# plot the masked map\n",
        "#  filled() fills the masked regions with a null value.\n",
        "fig = plt.figure(2)\n",
        "hp.mollview(wmap_masked.filled(), title='Masked map',\n",
        "            fig=2, unit=r'$\\Delta$T (mK)')\n",
        "\n",
        "#------------------------------------------------------------\n",
        "# compute and plot the power spectrum\n",
        "cl = hp.anafast(wmap_masked.filled(), lmax=1024)\n",
        "ell = np.arange(len(cl))\n",
        "\n",
        "cl_white = hp.anafast(white_noise, lmax=1024)\n",
        "\n",
        "fig = plt.figure(3)\n",
        "ax = fig.add_subplot(111)\n",
        "ax.scatter(ell, ell * (ell + 1) * cl,\n",
        "           s=4, c='black', lw=0,\n",
        "           label='data')\n",
        "ax.scatter(ell, ell * (ell + 1) * cl_white,\n",
        "           s=4, c='gray', lw=0,\n",
        "           label='white noise')\n",
        "\n",
        "ax.set_xlabel(r'$\\ell$')\n",
        "ax.set_ylabel(r'$\\ell(\\ell+1)C_\\ell$')\n",
        "ax.set_title('Angular Power (not mask corrected)')\n",
        "ax.legend(loc='upper right')\n",
        "ax.grid()\n",
        "ax.set_xlim(0, 1100)\n",
        "\n",
        "plt.show()"
      ],
      "execution_count": 0,
      "outputs": []
    },
    {
      "cell_type": "code",
      "metadata": {
        "id": "asdgGl2JyCO-",
        "colab_type": "code",
        "colab": {}
      },
      "source": [
        "wmap_unmasked"
      ],
      "execution_count": 0,
      "outputs": []
    }
  ]
}